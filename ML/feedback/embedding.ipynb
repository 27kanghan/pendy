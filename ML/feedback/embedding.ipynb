{
 "cells": [
  {
   "cell_type": "code",
   "execution_count": null,
   "id": "initial_id",
   "metadata": {
    "collapsed": true,
    "is_executing": true
   },
   "outputs": [],
   "source": [
    "from langchain.embeddings import OpenAIEmbeddings\n",
    "from langchain.text_splitter import RecursiveCharacterTextSplitter\n",
    "from langchain.vectorstores.faiss import FAISS\n",
    "from langchain.docstore.document import Document\n",
    "\n",
    "from ML.openaikey import apikey\n",
    "\n"
   ]
  },
  {
   "cell_type": "code",
   "execution_count": null,
   "outputs": [],
   "source": [
    "db_path = \"../vector_chromadb\"\n",
    "file_name = \"../product.txt\"\n",
    "file=open(file_name,\"r\",encoding=\"utf-8\")\n",
    "# file.write()\n",
    "# file.close()\n",
    "\n",
    "plain_txt = file.read()\n",
    "\n",
    "doc_chunks = []\n",
    "\n",
    "for line in plain_txt:\n",
    "    text_splitter = RecursiveCharacterTextSplitter(\n",
    "        chunk_size=2000, # 최대 청크 길이\n",
    "        separators=[\"\\n\\n\", \"\\n\", \"\\t\",\".\", \"!\", \"?\", \",\", \" \", \"\"], #  텍스트를 청크로 분할하는 데 사용되는 문자 목록\n",
    "        chunk_overlap=0, # 인접한 청크 간에 중복되는 문자 수\n",
    "    )\n",
    "    chunks = text_splitter.split_text(line)\n",
    "    for i, chunk in enumerate(chunks):\n",
    "        doc = Document(\n",
    "            page_content=chunk, metadata={\"page\": i, \"source\": file_name}\n",
    "        )\n",
    "        doc_chunks.append(doc)\n",
    "\t\t#persist_directory 을 명시하지 않으면 현재 디렉토리에 저장합니다\n",
    "persist_directory = \"./vector_chromadb\"\n",
    "\n",
    "embeddings = OpenAIEmbeddings(api_key = apikey)\n",
    "db = FAISS.from_documents(doc_chunks, embeddings)\n",
    "db.save_local(db_path)"
   ],
   "metadata": {
    "collapsed": false
   },
   "id": "fbaa96209d06f6"
  }
 ],
 "metadata": {
  "kernelspec": {
   "display_name": "Python 3",
   "language": "python",
   "name": "python3"
  },
  "language_info": {
   "codemirror_mode": {
    "name": "ipython",
    "version": 2
   },
   "file_extension": ".py",
   "mimetype": "text/x-python",
   "name": "python",
   "nbconvert_exporter": "python",
   "pygments_lexer": "ipython2",
   "version": "2.7.6"
  }
 },
 "nbformat": 4,
 "nbformat_minor": 5
}
